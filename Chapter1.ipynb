{
 "cells": [
  {
   "cell_type": "code",
   "execution_count": 1,
   "id": "de297822-0a23-4cda-9c05-bd67dc7f2fae",
   "metadata": {},
   "outputs": [],
   "source": [
    "import numpy as np\n"
   ]
  },
  {
   "cell_type": "code",
   "execution_count": 17,
   "id": "55598956-d191-4465-bfd5-13c9b59e003b",
   "metadata": {},
   "outputs": [],
   "source": [
    "numbers = np.random.randint(0,100,100)"
   ]
  },
  {
   "cell_type": "code",
   "execution_count": 18,
   "id": "da031f09-b7b7-414f-bb42-58ab26b4fcd0",
   "metadata": {},
   "outputs": [
    {
     "data": {
      "text/plain": [
       "array([82, 53, 71, 32, 57, 55, 19, 31, 24, 43, 66, 62, 50, 64,  6, 37, 48,\n",
       "       62, 40, 97, 50, 79, 84, 87, 78, 47, 17,  0, 97, 92, 11, 68, 43, 18,\n",
       "       52, 12, 93, 38, 33, 13, 12, 19, 45, 58, 20, 36, 73, 75, 14, 69, 87,\n",
       "       35, 16, 89, 54, 96, 11, 60, 85, 44, 48, 97, 62, 83, 77,  0, 40, 66,\n",
       "       92, 22, 37, 72, 99, 25, 96, 69, 45,  9, 92, 34, 18, 61,  3, 43, 47,\n",
       "        3, 63, 56, 52, 25, 81,  9, 79, 31, 77, 77, 91,  3, 30, 21],\n",
       "      dtype=int32)"
      ]
     },
     "execution_count": 18,
     "metadata": {},
     "output_type": "execute_result"
    }
   ],
   "source": [
    "numbers"
   ]
  },
  {
   "cell_type": "code",
   "execution_count": 19,
   "id": "bfdb3844-d31e-4d7d-8222-1ec48e8e1e1a",
   "metadata": {},
   "outputs": [],
   "source": [
    "import pandas as pd"
   ]
  },
  {
   "cell_type": "code",
   "execution_count": 20,
   "id": "7e69c7fa-fb79-4b24-9a74-384f154d2fac",
   "metadata": {},
   "outputs": [],
   "source": [
    "df = pd.DataFrame(numbers,columns=[\"Numbers\"])"
   ]
  },
  {
   "cell_type": "code",
   "execution_count": 21,
   "id": "f574e728-526f-4138-92ce-23a27e5bbab4",
   "metadata": {},
   "outputs": [
    {
     "data": {
      "text/plain": [
       "100"
      ]
     },
     "execution_count": 21,
     "metadata": {},
     "output_type": "execute_result"
    }
   ],
   "source": [
    "len(df[\"Numbers\"])"
   ]
  },
  {
   "cell_type": "code",
   "execution_count": 24,
   "id": "536cb33e-5fa0-4edd-b93c-8224bfb53d90",
   "metadata": {},
   "outputs": [
    {
     "data": {
      "text/plain": [
       "array([  1,  12,  23,  34,  45,  56,  67,  78,  89, 100])"
      ]
     },
     "execution_count": 24,
     "metadata": {},
     "output_type": "execute_result"
    }
   ],
   "source": [
    "bins = np.linspace(1,100,10,dtype=int)\n",
    "bins"
   ]
  },
  {
   "cell_type": "code",
   "execution_count": 39,
   "id": "e54c7e3e-41ec-42c1-9905-1ffcd840429b",
   "metadata": {},
   "outputs": [],
   "source": [
    "nList = []\n",
    "bLow = []\n",
    "bHigh = []\n",
    "for n in df[\"Numbers\"]:\n",
    "    for i,b in enumerate(bins):\n",
    "        if n>=bins[i] and n<=bins[i+1]:\n",
    "            nList.append(n)\n",
    "            bLow.append(bins[i])\n",
    "            bHigh.append(bins[i+1])\n",
    "\n",
    "df1 = pd.DataFrame(nList, columns=[\"Numbers\"])\n",
    "df1[\"BinsLower\"] = bLow\n",
    "df1[\"BinsHigh\"] = bHigh"
   ]
  },
  {
   "cell_type": "code",
   "execution_count": 43,
   "id": "df5dfd87-450a-436b-b4e0-f6955e807b60",
   "metadata": {},
   "outputs": [
    {
     "data": {
      "text/html": [
       "<div>\n",
       "<style scoped>\n",
       "    .dataframe tbody tr th:only-of-type {\n",
       "        vertical-align: middle;\n",
       "    }\n",
       "\n",
       "    .dataframe tbody tr th {\n",
       "        vertical-align: top;\n",
       "    }\n",
       "\n",
       "    .dataframe thead th {\n",
       "        text-align: right;\n",
       "    }\n",
       "</style>\n",
       "<table border=\"1\" class=\"dataframe\">\n",
       "  <thead>\n",
       "    <tr style=\"text-align: right;\">\n",
       "      <th></th>\n",
       "      <th>Numbers</th>\n",
       "      <th>BinsLower</th>\n",
       "      <th>BinsHigh</th>\n",
       "      <th>Binsize</th>\n",
       "    </tr>\n",
       "  </thead>\n",
       "  <tbody>\n",
       "    <tr>\n",
       "      <th>0</th>\n",
       "      <td>82</td>\n",
       "      <td>78</td>\n",
       "      <td>89</td>\n",
       "      <td>78-89</td>\n",
       "    </tr>\n",
       "    <tr>\n",
       "      <th>1</th>\n",
       "      <td>53</td>\n",
       "      <td>45</td>\n",
       "      <td>56</td>\n",
       "      <td>45-56</td>\n",
       "    </tr>\n",
       "    <tr>\n",
       "      <th>2</th>\n",
       "      <td>71</td>\n",
       "      <td>67</td>\n",
       "      <td>78</td>\n",
       "      <td>67-78</td>\n",
       "    </tr>\n",
       "    <tr>\n",
       "      <th>3</th>\n",
       "      <td>32</td>\n",
       "      <td>23</td>\n",
       "      <td>34</td>\n",
       "      <td>23-34</td>\n",
       "    </tr>\n",
       "    <tr>\n",
       "      <th>4</th>\n",
       "      <td>57</td>\n",
       "      <td>56</td>\n",
       "      <td>67</td>\n",
       "      <td>56-67</td>\n",
       "    </tr>\n",
       "    <tr>\n",
       "      <th>...</th>\n",
       "      <td>...</td>\n",
       "      <td>...</td>\n",
       "      <td>...</td>\n",
       "      <td>...</td>\n",
       "    </tr>\n",
       "    <tr>\n",
       "      <th>101</th>\n",
       "      <td>77</td>\n",
       "      <td>67</td>\n",
       "      <td>78</td>\n",
       "      <td>67-78</td>\n",
       "    </tr>\n",
       "    <tr>\n",
       "      <th>102</th>\n",
       "      <td>91</td>\n",
       "      <td>89</td>\n",
       "      <td>100</td>\n",
       "      <td>89-100</td>\n",
       "    </tr>\n",
       "    <tr>\n",
       "      <th>103</th>\n",
       "      <td>3</td>\n",
       "      <td>1</td>\n",
       "      <td>12</td>\n",
       "      <td>1-12</td>\n",
       "    </tr>\n",
       "    <tr>\n",
       "      <th>104</th>\n",
       "      <td>30</td>\n",
       "      <td>23</td>\n",
       "      <td>34</td>\n",
       "      <td>23-34</td>\n",
       "    </tr>\n",
       "    <tr>\n",
       "      <th>105</th>\n",
       "      <td>21</td>\n",
       "      <td>12</td>\n",
       "      <td>23</td>\n",
       "      <td>12-23</td>\n",
       "    </tr>\n",
       "  </tbody>\n",
       "</table>\n",
       "<p>106 rows × 4 columns</p>\n",
       "</div>"
      ],
      "text/plain": [
       "     Numbers  BinsLower  BinsHigh Binsize\n",
       "0         82         78        89   78-89\n",
       "1         53         45        56   45-56\n",
       "2         71         67        78   67-78\n",
       "3         32         23        34   23-34\n",
       "4         57         56        67   56-67\n",
       "..       ...        ...       ...     ...\n",
       "101       77         67        78   67-78\n",
       "102       91         89       100  89-100\n",
       "103        3          1        12    1-12\n",
       "104       30         23        34   23-34\n",
       "105       21         12        23   12-23\n",
       "\n",
       "[106 rows x 4 columns]"
      ]
     },
     "execution_count": 43,
     "metadata": {},
     "output_type": "execute_result"
    }
   ],
   "source": [
    "df1[\"Binsize\"] = df1[\"BinsLower\"].astype(str) + \"-\" + df1[\"BinsHigh\"].astype(str)\n",
    "df1"
   ]
  },
  {
   "cell_type": "code",
   "execution_count": 51,
   "id": "75f07d80-94f4-41cd-9f12-d118f1b96df0",
   "metadata": {},
   "outputs": [],
   "source": [
    "df1 = df1.drop([\"BinsLower\",\"BinsHigh\"],axis=1)"
   ]
  },
  {
   "cell_type": "code",
   "execution_count": 52,
   "id": "4231e998-31fd-414e-937c-453646d2e021",
   "metadata": {},
   "outputs": [
    {
     "data": {
      "text/html": [
       "<div>\n",
       "<style scoped>\n",
       "    .dataframe tbody tr th:only-of-type {\n",
       "        vertical-align: middle;\n",
       "    }\n",
       "\n",
       "    .dataframe tbody tr th {\n",
       "        vertical-align: top;\n",
       "    }\n",
       "\n",
       "    .dataframe thead th {\n",
       "        text-align: right;\n",
       "    }\n",
       "</style>\n",
       "<table border=\"1\" class=\"dataframe\">\n",
       "  <thead>\n",
       "    <tr style=\"text-align: right;\">\n",
       "      <th></th>\n",
       "      <th>Numbers</th>\n",
       "      <th>Binsize</th>\n",
       "    </tr>\n",
       "  </thead>\n",
       "  <tbody>\n",
       "    <tr>\n",
       "      <th>0</th>\n",
       "      <td>3</td>\n",
       "      <td>1-12</td>\n",
       "    </tr>\n",
       "    <tr>\n",
       "      <th>1</th>\n",
       "      <td>11</td>\n",
       "      <td>1-12</td>\n",
       "    </tr>\n",
       "    <tr>\n",
       "      <th>2</th>\n",
       "      <td>12</td>\n",
       "      <td>1-12</td>\n",
       "    </tr>\n",
       "    <tr>\n",
       "      <th>3</th>\n",
       "      <td>6</td>\n",
       "      <td>1-12</td>\n",
       "    </tr>\n",
       "    <tr>\n",
       "      <th>4</th>\n",
       "      <td>12</td>\n",
       "      <td>1-12</td>\n",
       "    </tr>\n",
       "    <tr>\n",
       "      <th>...</th>\n",
       "      <td>...</td>\n",
       "      <td>...</td>\n",
       "    </tr>\n",
       "    <tr>\n",
       "      <th>101</th>\n",
       "      <td>97</td>\n",
       "      <td>89-100</td>\n",
       "    </tr>\n",
       "    <tr>\n",
       "      <th>102</th>\n",
       "      <td>91</td>\n",
       "      <td>89-100</td>\n",
       "    </tr>\n",
       "    <tr>\n",
       "      <th>103</th>\n",
       "      <td>96</td>\n",
       "      <td>89-100</td>\n",
       "    </tr>\n",
       "    <tr>\n",
       "      <th>104</th>\n",
       "      <td>92</td>\n",
       "      <td>89-100</td>\n",
       "    </tr>\n",
       "    <tr>\n",
       "      <th>105</th>\n",
       "      <td>93</td>\n",
       "      <td>89-100</td>\n",
       "    </tr>\n",
       "  </tbody>\n",
       "</table>\n",
       "<p>106 rows × 2 columns</p>\n",
       "</div>"
      ],
      "text/plain": [
       "     Numbers Binsize\n",
       "0          3    1-12\n",
       "1         11    1-12\n",
       "2         12    1-12\n",
       "3          6    1-12\n",
       "4         12    1-12\n",
       "..       ...     ...\n",
       "101       97  89-100\n",
       "102       91  89-100\n",
       "103       96  89-100\n",
       "104       92  89-100\n",
       "105       93  89-100\n",
       "\n",
       "[106 rows x 2 columns]"
      ]
     },
     "execution_count": 52,
     "metadata": {},
     "output_type": "execute_result"
    }
   ],
   "source": [
    "df1 = df1.sort_values(by=\"Binsize\", ascending=True).reset_index(drop=True)\n",
    "df1"
   ]
  },
  {
   "cell_type": "code",
   "execution_count": null,
   "id": "fc306a68-1db4-476e-95b6-7f1aad8e6bbd",
   "metadata": {},
   "outputs": [],
   "source": []
  }
 ],
 "metadata": {
  "kernelspec": {
   "display_name": "Python 3 (ipykernel)",
   "language": "python",
   "name": "python3"
  },
  "language_info": {
   "codemirror_mode": {
    "name": "ipython",
    "version": 3
   },
   "file_extension": ".py",
   "mimetype": "text/x-python",
   "name": "python",
   "nbconvert_exporter": "python",
   "pygments_lexer": "ipython3",
   "version": "3.13.0"
  }
 },
 "nbformat": 4,
 "nbformat_minor": 5
}
